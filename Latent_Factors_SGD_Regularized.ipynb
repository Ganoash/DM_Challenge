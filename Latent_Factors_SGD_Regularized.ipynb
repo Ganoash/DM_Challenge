{
 "cells": [
  {
   "cell_type": "code",
   "execution_count": 1,
   "metadata": {},
   "outputs": [
    {
     "name": "stdout",
     "output_type": "stream",
     "text": [
      "Shape of Utility matrix is (movies, users): (3706, 6040)\n"
     ]
    },
    {
     "data": {
      "text/plain": [
       "array([[ 5., nan, nan, ..., nan, nan,  3.],\n",
       "       [nan, nan, nan, ..., nan, nan, nan],\n",
       "       [nan, nan, nan, ..., nan, nan, nan],\n",
       "       ...,\n",
       "       [nan, nan, nan, ..., nan, nan, nan],\n",
       "       [nan, nan, nan, ..., nan, nan, nan],\n",
       "       [nan, nan, nan, ..., nan, nan, nan]])"
      ]
     },
     "execution_count": 1,
     "metadata": {},
     "output_type": "execute_result"
    }
   ],
   "source": [
    "import numpy as np\n",
    "import pandas as pd\n",
    "import os.path\n",
    "from random import randint\n",
    "\n",
    "ratings_file = './data/ratings.csv'\n",
    "predictions_file = './data/predictions.csv'\n",
    "\n",
    "ratings_description = pd.read_csv(ratings_file, delimiter=';',\n",
    "                                  dtype={'userID': 'int', 'movieID': 'int', 'rating': 'int'},\n",
    "                                  names=['userID', 'movieID', 'rating'])\n",
    "\n",
    "num_movies = max(ratings_description[\"movieID\"])\n",
    "num_users = max(ratings_description[\"userID\"])\n",
    "R = np.zeros(( num_movies, num_users))\n",
    "\n",
    "for user, movie, rating in ratings_description.values:\n",
    "    R[movie-1, user-1] = rating\n",
    "\n",
    "R[R==0] = np.nan\n",
    "print(f\"Shape of Utility matrix is (movies, users): {R.shape}\")\n",
    "R"
   ]
  },
  {
   "cell_type": "code",
   "execution_count": 9,
   "metadata": {
    "scrolled": true
   },
   "outputs": [
    {
     "name": "stdout",
     "output_type": "stream",
     "text": [
      "Starting RMSE: 0.9080974866689441\n"
     ]
    },
    {
     "data": {
      "application/vnd.jupyter.widget-view+json": {
       "model_id": "3bd3c97f8f6b41099b67ec5b298fca89",
       "version_major": 2,
       "version_minor": 0
      },
      "text/plain": [
       "HBox(children=(HTML(value=''), FloatProgress(value=0.0, max=1.0), HTML(value='')))"
      ]
     },
     "metadata": {},
     "output_type": "display_data"
    },
    {
     "name": "stdout",
     "output_type": "stream",
     "text": [
      "RMSE 0: 0.9080775273055889\n",
      "\n",
      "Final RMSE: 0.9080775273055889\n"
     ]
    }
   ],
   "source": [
    "from tqdm.auto import tqdm\n",
    "\n",
    "EPOCHS = 200\n",
    "LEARNING_RATE = 0.00002\n",
    "LAMBDA = 0.1\n",
    "\n",
    "K = 2 # number of factors to work with.\n",
    "\n",
    "np.random.seed(42)\n",
    "\n",
    "ratings = ratings_description.values.copy()\n",
    "ratings[:, 0:2] = ratings[:, 0:2] - 1\n",
    "# Q = np.random.uniform(-1, 1, (R.shape[0], K)) # movies\n",
    "# P = np.random.uniform(-1, 1, (K, R.shape[1])) # users\n",
    "# sgd_learning_curve = []\n",
    "\n",
    "div = (R.shape[0] * R.shape[1]) - np.isnan(R).sum()\n",
    "RMSE = np.sqrt(((np.nan_to_num(R - np.matmul(Q, P), 0)**2).sum())/div)\n",
    "print(f\"Starting RMSE: {RMSE}\")\n",
    "\n",
    "for epoch in tqdm(range(EPOCHS)):\n",
    "    np.random.shuffle(ratings) # inplace shuffle of matrix\n",
    "    R_pred = np.matmul(Q, P)\n",
    "    curr_error = 2*np.nan_to_num(R - R_pred, 0)\n",
    "    for userID, movieID, rating in ratings:\n",
    "        q_update = LEARNING_RATE * (curr_error[movieID, userID]*P[:, userID] - LAMBDA*Q[movieID, :])\n",
    "        Q[movieID, :] = Q[movieID, :] + q_update\n",
    "\n",
    "        p_update = LEARNING_RATE * (curr_error[movieID, userID]*Q[movieID, :] - LAMBDA*P[:, userID])\n",
    "        P[:, userID] = P[:, userID] + p_update\n",
    "\n",
    "    RMSE_i = np.sqrt(((np.nan_to_num(R - np.matmul(Q, P), 0)**2).sum())/div)\n",
    "    print(f\"RMSE {epoch}: {RMSE_i}\")\n",
    "    sgd_learning_curve.append([epoch, RMSE_i])\n",
    "\n",
    "RMSE = np.sqrt(((np.nan_to_num(R - np.matmul(Q, P), 0)**2).sum())/div)\n",
    "print(f\"Final RMSE: {RMSE}\")"
   ]
  },
  {
   "cell_type": "code",
   "execution_count": 7,
   "metadata": {},
   "outputs": [],
   "source": [
    "from numpy import savetxt\n",
    "from pathlib import Path\n",
    "\n",
    "Path(\"./lf_sgd/\").mkdir(parents=True, exist_ok=True)\n",
    "\n",
    "\n",
    "savetxt(\"lf_sgd/Q.csv\", Q)\n",
    "savetxt(\"lf_sgd/P.csv\", P)\n",
    "savetxt(\"lf_sgd/objectives.csv\", sgd_learning_curve)"
   ]
  },
  {
   "cell_type": "code",
   "execution_count": 8,
   "metadata": {},
   "outputs": [],
   "source": [
    "#### CREATE SUBMISSION ####\n",
    "predictions_description = pd.read_csv(predictions_file, delimiter=';', names=['userID', 'movieID'], header=None)\n",
    "submission = []\n",
    "R_pred = np.matmul(Q, P)\n",
    "for i, [user,movie] in enumerate(predictions_description.values):\n",
    "    submission.append([i+1, R_pred[movie-1,user-1]])\n",
    "\n",
    "submission_df = pd.DataFrame(submission, columns=[\"Id\", \"Rating\"])\n",
    "submission_df.to_csv(\"lf_sgd/submission.csv\", index=False)"
   ]
  }
 ],
 "metadata": {
  "kernelspec": {
   "display_name": "Python 3",
   "language": "python",
   "name": "python3"
  },
  "language_info": {
   "codemirror_mode": {
    "name": "ipython",
    "version": 3
   },
   "file_extension": ".py",
   "mimetype": "text/x-python",
   "name": "python",
   "nbconvert_exporter": "python",
   "pygments_lexer": "ipython3",
   "version": "3.8.5"
  }
 },
 "nbformat": 4,
 "nbformat_minor": 4
}
